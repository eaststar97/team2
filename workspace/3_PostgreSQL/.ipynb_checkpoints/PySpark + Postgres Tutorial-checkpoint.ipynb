{
 "cells": [
  {
   "cell_type": "markdown",
   "id": "af056cdc",
   "metadata": {},
   "source": [
    "docker exec -it mysql /bin/bash"
   ]
  },
  {
   "cell_type": "markdown",
   "id": "b95658e0",
   "metadata": {},
   "source": [
    "!python3 -m pip show pandas"
   ]
  },
  {
   "cell_type": "code",
   "execution_count": 1,
   "id": "4d108cb2",
   "metadata": {},
   "outputs": [
    {
     "data": {
      "text/html": [
       "<div>\n",
       "<style scoped>\n",
       "    .dataframe tbody tr th:only-of-type {\n",
       "        vertical-align: middle;\n",
       "    }\n",
       "\n",
       "    .dataframe tbody tr th {\n",
       "        vertical-align: top;\n",
       "    }\n",
       "\n",
       "    .dataframe thead th {\n",
       "        text-align: right;\n",
       "    }\n",
       "</style>\n",
       "<table border=\"1\" class=\"dataframe\">\n",
       "  <thead>\n",
       "    <tr style=\"text-align: right;\">\n",
       "      <th></th>\n",
       "      <th>fixed acidity</th>\n",
       "      <th>volatile acidity</th>\n",
       "      <th>citric acid</th>\n",
       "      <th>residual sugar</th>\n",
       "      <th>chlorides</th>\n",
       "      <th>free sulfur dioxide</th>\n",
       "      <th>total sulfur dioxide</th>\n",
       "      <th>density</th>\n",
       "      <th>pH</th>\n",
       "      <th>sulphates</th>\n",
       "      <th>alcohol</th>\n",
       "      <th>quality</th>\n",
       "      <th>is_red</th>\n",
       "    </tr>\n",
       "  </thead>\n",
       "  <tbody>\n",
       "    <tr>\n",
       "      <th>0</th>\n",
       "      <td>7.4</td>\n",
       "      <td>0.70</td>\n",
       "      <td>0.00</td>\n",
       "      <td>1.9</td>\n",
       "      <td>0.076</td>\n",
       "      <td>11.0</td>\n",
       "      <td>34.0</td>\n",
       "      <td>0.99780</td>\n",
       "      <td>3.51</td>\n",
       "      <td>0.56</td>\n",
       "      <td>9.4</td>\n",
       "      <td>5</td>\n",
       "      <td>1</td>\n",
       "    </tr>\n",
       "    <tr>\n",
       "      <th>1</th>\n",
       "      <td>7.8</td>\n",
       "      <td>0.88</td>\n",
       "      <td>0.00</td>\n",
       "      <td>2.6</td>\n",
       "      <td>0.098</td>\n",
       "      <td>25.0</td>\n",
       "      <td>67.0</td>\n",
       "      <td>0.99680</td>\n",
       "      <td>3.20</td>\n",
       "      <td>0.68</td>\n",
       "      <td>9.8</td>\n",
       "      <td>5</td>\n",
       "      <td>1</td>\n",
       "    </tr>\n",
       "    <tr>\n",
       "      <th>2</th>\n",
       "      <td>7.8</td>\n",
       "      <td>0.76</td>\n",
       "      <td>0.04</td>\n",
       "      <td>2.3</td>\n",
       "      <td>0.092</td>\n",
       "      <td>15.0</td>\n",
       "      <td>54.0</td>\n",
       "      <td>0.99700</td>\n",
       "      <td>3.26</td>\n",
       "      <td>0.65</td>\n",
       "      <td>9.8</td>\n",
       "      <td>5</td>\n",
       "      <td>1</td>\n",
       "    </tr>\n",
       "    <tr>\n",
       "      <th>3</th>\n",
       "      <td>11.2</td>\n",
       "      <td>0.28</td>\n",
       "      <td>0.56</td>\n",
       "      <td>1.9</td>\n",
       "      <td>0.075</td>\n",
       "      <td>17.0</td>\n",
       "      <td>60.0</td>\n",
       "      <td>0.99800</td>\n",
       "      <td>3.16</td>\n",
       "      <td>0.58</td>\n",
       "      <td>9.8</td>\n",
       "      <td>6</td>\n",
       "      <td>1</td>\n",
       "    </tr>\n",
       "    <tr>\n",
       "      <th>4</th>\n",
       "      <td>7.4</td>\n",
       "      <td>0.70</td>\n",
       "      <td>0.00</td>\n",
       "      <td>1.9</td>\n",
       "      <td>0.076</td>\n",
       "      <td>11.0</td>\n",
       "      <td>34.0</td>\n",
       "      <td>0.99780</td>\n",
       "      <td>3.51</td>\n",
       "      <td>0.56</td>\n",
       "      <td>9.4</td>\n",
       "      <td>5</td>\n",
       "      <td>1</td>\n",
       "    </tr>\n",
       "    <tr>\n",
       "      <th>...</th>\n",
       "      <td>...</td>\n",
       "      <td>...</td>\n",
       "      <td>...</td>\n",
       "      <td>...</td>\n",
       "      <td>...</td>\n",
       "      <td>...</td>\n",
       "      <td>...</td>\n",
       "      <td>...</td>\n",
       "      <td>...</td>\n",
       "      <td>...</td>\n",
       "      <td>...</td>\n",
       "      <td>...</td>\n",
       "      <td>...</td>\n",
       "    </tr>\n",
       "    <tr>\n",
       "      <th>4893</th>\n",
       "      <td>6.2</td>\n",
       "      <td>0.21</td>\n",
       "      <td>0.29</td>\n",
       "      <td>1.6</td>\n",
       "      <td>0.039</td>\n",
       "      <td>24.0</td>\n",
       "      <td>92.0</td>\n",
       "      <td>0.99114</td>\n",
       "      <td>3.27</td>\n",
       "      <td>0.50</td>\n",
       "      <td>11.2</td>\n",
       "      <td>6</td>\n",
       "      <td>0</td>\n",
       "    </tr>\n",
       "    <tr>\n",
       "      <th>4894</th>\n",
       "      <td>6.6</td>\n",
       "      <td>0.32</td>\n",
       "      <td>0.36</td>\n",
       "      <td>8.0</td>\n",
       "      <td>0.047</td>\n",
       "      <td>57.0</td>\n",
       "      <td>168.0</td>\n",
       "      <td>0.99490</td>\n",
       "      <td>3.15</td>\n",
       "      <td>0.46</td>\n",
       "      <td>9.6</td>\n",
       "      <td>5</td>\n",
       "      <td>0</td>\n",
       "    </tr>\n",
       "    <tr>\n",
       "      <th>4895</th>\n",
       "      <td>6.5</td>\n",
       "      <td>0.24</td>\n",
       "      <td>0.19</td>\n",
       "      <td>1.2</td>\n",
       "      <td>0.041</td>\n",
       "      <td>30.0</td>\n",
       "      <td>111.0</td>\n",
       "      <td>0.99254</td>\n",
       "      <td>2.99</td>\n",
       "      <td>0.46</td>\n",
       "      <td>9.4</td>\n",
       "      <td>6</td>\n",
       "      <td>0</td>\n",
       "    </tr>\n",
       "    <tr>\n",
       "      <th>4896</th>\n",
       "      <td>5.5</td>\n",
       "      <td>0.29</td>\n",
       "      <td>0.30</td>\n",
       "      <td>1.1</td>\n",
       "      <td>0.022</td>\n",
       "      <td>20.0</td>\n",
       "      <td>110.0</td>\n",
       "      <td>0.98869</td>\n",
       "      <td>3.34</td>\n",
       "      <td>0.38</td>\n",
       "      <td>12.8</td>\n",
       "      <td>7</td>\n",
       "      <td>0</td>\n",
       "    </tr>\n",
       "    <tr>\n",
       "      <th>4897</th>\n",
       "      <td>6.0</td>\n",
       "      <td>0.21</td>\n",
       "      <td>0.38</td>\n",
       "      <td>0.8</td>\n",
       "      <td>0.020</td>\n",
       "      <td>22.0</td>\n",
       "      <td>98.0</td>\n",
       "      <td>0.98941</td>\n",
       "      <td>3.26</td>\n",
       "      <td>0.32</td>\n",
       "      <td>11.8</td>\n",
       "      <td>6</td>\n",
       "      <td>0</td>\n",
       "    </tr>\n",
       "  </tbody>\n",
       "</table>\n",
       "<p>6497 rows × 13 columns</p>\n",
       "</div>"
      ],
      "text/plain": [
       "      fixed acidity  volatile acidity  citric acid  residual sugar  chlorides  \\\n",
       "0               7.4              0.70         0.00             1.9      0.076   \n",
       "1               7.8              0.88         0.00             2.6      0.098   \n",
       "2               7.8              0.76         0.04             2.3      0.092   \n",
       "3              11.2              0.28         0.56             1.9      0.075   \n",
       "4               7.4              0.70         0.00             1.9      0.076   \n",
       "...             ...               ...          ...             ...        ...   \n",
       "4893            6.2              0.21         0.29             1.6      0.039   \n",
       "4894            6.6              0.32         0.36             8.0      0.047   \n",
       "4895            6.5              0.24         0.19             1.2      0.041   \n",
       "4896            5.5              0.29         0.30             1.1      0.022   \n",
       "4897            6.0              0.21         0.38             0.8      0.020   \n",
       "\n",
       "      free sulfur dioxide  total sulfur dioxide  density    pH  sulphates  \\\n",
       "0                    11.0                  34.0  0.99780  3.51       0.56   \n",
       "1                    25.0                  67.0  0.99680  3.20       0.68   \n",
       "2                    15.0                  54.0  0.99700  3.26       0.65   \n",
       "3                    17.0                  60.0  0.99800  3.16       0.58   \n",
       "4                    11.0                  34.0  0.99780  3.51       0.56   \n",
       "...                   ...                   ...      ...   ...        ...   \n",
       "4893                 24.0                  92.0  0.99114  3.27       0.50   \n",
       "4894                 57.0                 168.0  0.99490  3.15       0.46   \n",
       "4895                 30.0                 111.0  0.99254  2.99       0.46   \n",
       "4896                 20.0                 110.0  0.98869  3.34       0.38   \n",
       "4897                 22.0                  98.0  0.98941  3.26       0.32   \n",
       "\n",
       "      alcohol  quality  is_red  \n",
       "0         9.4        5       1  \n",
       "1         9.8        5       1  \n",
       "2         9.8        5       1  \n",
       "3         9.8        6       1  \n",
       "4         9.4        5       1  \n",
       "...       ...      ...     ...  \n",
       "4893     11.2        6       0  \n",
       "4894      9.6        5       0  \n",
       "4895      9.4        6       0  \n",
       "4896     12.8        7       0  \n",
       "4897     11.8        6       0  \n",
       "\n",
       "[6497 rows x 13 columns]"
      ]
     },
     "execution_count": 1,
     "metadata": {},
     "output_type": "execute_result"
    }
   ],
   "source": [
    "import pandas as pd\n",
    "\n",
    "red_wines = pd.read_csv(\"winequality-red.csv\", sep=\";\")\n",
    "red_wines[\"is_red\"] = 1\n",
    "white_wines = pd.read_csv(\"winequality-white.csv\", sep=\";\")\n",
    "white_wines[\"is_red\"] = 0\n",
    "all_wines = pd.concat([red_wines, white_wines])\n",
    "all_wines"
   ]
  },
  {
   "cell_type": "markdown",
   "id": "fe499585",
   "metadata": {},
   "source": [
    "!apt-get install -y python3-setuptools"
   ]
  },
  {
   "cell_type": "markdown",
   "id": "74264cd6",
   "metadata": {},
   "source": [
    "!python3 -m pip install --user mysql-connector"
   ]
  },
  {
   "cell_type": "markdown",
   "id": "d4e0df60",
   "metadata": {},
   "source": [
    "import mysql.connector\n",
    "\n",
    "db_connection = mysql.connector.connect(host='mysql', user=\"root\", password=\"go2team\", auth_plugin='mysql_native_password')\n",
    "db_cursor = db_connection.cursor()\n",
    "db_cursor.execute(\"CREATE DATABASE TestDB;\")\n",
    "db_cursor.execute(\"USE TestDB;\")\n",
    "\n",
    "db_cursor.execute(\"CREATE TABLE Wines(fixed_acidity FLOAT, volatile_acidity FLOAT, \\\n",
    "                   citric_acid FLOAT, residual_sugar FLOAT, chlorides FLOAT, \\\n",
    "                   free_so2 FLOAT, total_so2 FLOAT, density FLOAT, pH FLOAT, \\\n",
    "                   sulphates FLOAT, alcohol FLOAT, quality INT, is_red INT);\")"
   ]
  },
  {
   "cell_type": "markdown",
   "id": "ef33cc89",
   "metadata": {},
   "source": [
    "wine_tuples = list(all_wines.itertuples(index=False, name=None))\n",
    "wine_tuples_string = \",\".join([\"(\" + \",\".join([str(w) for w in wt]) + \")\" for wt in wine_tuples])\n",
    "\n",
    "db_cursor.execute(\"USE TestDB;\")\n",
    "db_cursor.execute(\"INSERT INTO Wines(fixed_acidity, volatile_acidity, citric_acid,\\\n",
    "                   residual_sugar, chlorides, free_so2, total_so2, density, pH,\\\n",
    "                   sulphates, alcohol, quality, is_red) VALUES \" + wine_tuples_string + \";\")\n",
    "db_cursor.execute(\"FLUSH TABLES;\")"
   ]
  },
  {
   "cell_type": "markdown",
   "id": "215cc350",
   "metadata": {},
   "source": [
    "# Accessing PostgreSQL with PySpark"
   ]
  },
  {
   "cell_type": "code",
   "execution_count": 1,
   "id": "410adf8a",
   "metadata": {},
   "outputs": [
    {
     "data": {
      "text/html": [
       "\n",
       "            <div>\n",
       "                <p><b>SparkSession - hive</b></p>\n",
       "                \n",
       "        <div>\n",
       "            <p><b>SparkContext</b></p>\n",
       "\n",
       "            <p><a href=\"http://master:4041\">Spark UI</a></p>\n",
       "\n",
       "            <dl>\n",
       "              <dt>Version</dt>\n",
       "                <dd><code>v3.1.2</code></dd>\n",
       "              <dt>Master</dt>\n",
       "                <dd><code>spark://master:7077</code></dd>\n",
       "              <dt>AppName</dt>\n",
       "                <dd><code>PySparkShell</code></dd>\n",
       "            </dl>\n",
       "        </div>\n",
       "        \n",
       "            </div>\n",
       "        "
      ],
      "text/plain": [
       "<pyspark.sql.session.SparkSession at 0x7f65ebb3acc0>"
      ]
     },
     "execution_count": 1,
     "metadata": {},
     "output_type": "execute_result"
    }
   ],
   "source": [
    "spark"
   ]
  },
  {
   "cell_type": "code",
   "execution_count": 2,
   "id": "c118760a",
   "metadata": {
    "scrolled": false
   },
   "outputs": [
    {
     "data": {
      "text/plain": [
       "[('spark.eventLog.enabled', 'true'),\n",
       " ('spark.app.startTime', '1646916779690'),\n",
       " ('spark.eventLog.dir', 'hdfs://master:9000/spark-logs'),\n",
       " ('spark.sql.repl.eagerEval.enabled', 'true'),\n",
       " ('spark.history.ui.port', '18080'),\n",
       " ('spark.master', 'spark://master:7077'),\n",
       " ('spark.driver.host', 'master'),\n",
       " ('spark.sql.warehouse.dir', 'hdfs://master:9000/apps/hive/warehouse'),\n",
       " ('spark.history.fs.logDirectory', 'hdfs://master:9000/spark-logs'),\n",
       " ('spark.driver.port', '42049'),\n",
       " ('spark.executor.id', 'driver'),\n",
       " ('spark.app.id', 'app-20220310125303-0008'),\n",
       " ('spark.app.name', 'PySparkShell'),\n",
       " ('spark.yarn.jars', 'hdfs:///spark-jars/*.jar'),\n",
       " ('spark.sql.catalogImplementation', 'hive'),\n",
       " ('spark.executor.memory', '1g'),\n",
       " ('spark.rdd.compress', 'True'),\n",
       " ('spark.history.provider',\n",
       "  'org.apache.spark.deploy.history.FsHistoryProvider'),\n",
       " ('spark.serializer.objectStreamReset', '100'),\n",
       " ('spark.submit.pyFiles', ''),\n",
       " ('spark.executor.cores', '1'),\n",
       " ('spark.submit.deployMode', 'client'),\n",
       " ('spark.yarn.historyServer.address', 'master:18080'),\n",
       " ('spark.history.fs.update.interval', '10s'),\n",
       " ('spark.driver.extraJavaOptions', '-Dderby.system.home=/tmp/derby/'),\n",
       " ('spark.ui.showConsoleProgress', 'true')]"
      ]
     },
     "execution_count": 2,
     "metadata": {},
     "output_type": "execute_result"
    }
   ],
   "source": [
    "spark.sparkContext._conf.getAll()"
   ]
  },
  {
   "cell_type": "code",
   "execution_count": 1,
   "id": "35ff7af9",
   "metadata": {},
   "outputs": [
    {
     "name": "stdout",
     "output_type": "stream",
     "text": [
      "--2022-03-03 03:36:02--  https://repo1.maven.org/maven2/org/postgresql/postgresql/42.3.3/postgresql-42.3.3.jar\n",
      "Resolving repo1.maven.org (repo1.maven.org)... 151.101.196.209\n",
      "Connecting to repo1.maven.org (repo1.maven.org)|151.101.196.209|:443... connected.\n",
      "HTTP request sent, awaiting response... 200 OK\n",
      "Length: 1039047 (1015K) [application/java-archive]\n",
      "Saving to: 'postgresql-42.3.3.jar'\n",
      "\n",
      "postgresql-42.3.3.j 100%[===================>]   1015K   397KB/s    in 2.6s    \n",
      "\n",
      "2022-03-03 03:36:05 (397 KB/s) - 'postgresql-42.3.3.jar' saved [1039047/1039047]\n",
      "\n"
     ]
    }
   ],
   "source": [
    "!wget https://repo1.maven.org/maven2/org/postgresql/postgresql/42.3.3/postgresql-42.3.3.jar"
   ]
  },
  {
   "cell_type": "code",
   "execution_count": 2,
   "id": "72332d99",
   "metadata": {},
   "outputs": [
    {
     "name": "stdout",
     "output_type": "stream",
     "text": [
      "/root/workspace\r\n"
     ]
    }
   ],
   "source": [
    "!pwd"
   ]
  },
  {
   "cell_type": "code",
   "execution_count": 3,
   "id": "7a27f917",
   "metadata": {},
   "outputs": [
    {
     "name": "stdout",
     "output_type": "stream",
     "text": [
      "total 3760\r\n",
      "drwxr-xr-x. 6 root root    4096 Mar  3 03:36  .\r\n",
      "drwx------. 1 root root    4096 Mar  2 23:13  ..\r\n",
      "drwxr-xr-x. 2 root root     144 Mar  3 03:34  .ipynb_checkpoints\r\n",
      "-rw-r--r--. 1 root root   19566 Mar  3 03:25 'PySpark + MySQL Tutorial.ipynb'\r\n",
      "-rw-r--r--. 1 root root   20907 Mar  3 03:35 'PySpark + Postgres Tutorial.ipynb'\r\n",
      "-rw-r--r--. 1 root root    6762 Mar  2 23:15  SparkSession.ipynb\r\n",
      "drwxr-xr-x. 2 root root       6 Feb 25 04:41  dags\r\n",
      "drwxr-xr-x. 3 root root     150 Feb 26 07:03  examples\r\n",
      "-rw-r--r--. 1 root root 2389216 Sep 10  2020  mysql-connector-java-8.0.22.jar\r\n",
      "-rw-r--r--. 1 root root 1039047 Feb 15 19:06  postgresql-42.3.3.jar\r\n",
      "drwxr-xr-x. 2 root root     106 Feb 26 07:03  screenshots\r\n",
      "-rw-r--r--. 1 root root   84199 Mar  3 02:52  winequality-red.csv\r\n",
      "-rw-r--r--. 1 root root  264426 Mar  3 02:52  winequality-white.csv\r\n",
      "-rw-r--r--. 1 root root    3305 Mar  3 02:52  winequality.names\r\n"
     ]
    }
   ],
   "source": [
    "!ls -al"
   ]
  },
  {
   "cell_type": "code",
   "execution_count": 3,
   "id": "3756163b",
   "metadata": {},
   "outputs": [],
   "source": [
    "from pyspark.sql import SparkSession"
   ]
  },
  {
   "cell_type": "code",
   "execution_count": 4,
   "id": "31fa01b2",
   "metadata": {},
   "outputs": [],
   "source": [
    "spark = SparkSession.builder\\\n",
    "    .master(\"spark://master:7077\")\\\n",
    "    .appName(\"PySpark_PostgreSQL_test\")\\\n",
    "    .getOrCreate()"
   ]
  },
  {
   "cell_type": "markdown",
   "id": "870c2dce",
   "metadata": {},
   "source": [
    "spark = SparkSession.builder\\\n",
    "    .config(\"spark.jars\", \"/root/workspace/postgresql-42.3.3.jar\") \\\n",
    "    .master(\"spark://master:7077\")\\\n",
    "    .appName(\"PySpark_PostgreSQL_test\")\\\n",
    "    .getOrCreate()"
   ]
  },
  {
   "cell_type": "code",
   "execution_count": 5,
   "id": "9f71afec",
   "metadata": {},
   "outputs": [],
   "source": [
    "ip = 'hive-postgres'\n",
    "port = 5432\n",
    "user = \"hive\"\n",
    "passwd = \"go2team\"\n",
    "db = \"metastore\""
   ]
  },
  {
   "cell_type": "code",
   "execution_count": 11,
   "id": "05fc1b26",
   "metadata": {},
   "outputs": [],
   "source": [
    "sql = \"\"\"\n",
    "select *\n",
    "from public.hive_locks\n",
    "limit 10 \n",
    "\"\"\""
   ]
  },
  {
   "cell_type": "code",
   "execution_count": 12,
   "id": "04215988",
   "metadata": {},
   "outputs": [],
   "source": [
    "postgreTable = spark.read.format(\"jdbc\")\\\n",
    "                    .option(\"url\",\"jdbc:postgresql://{0}:{1}/{2}\".format( ip, port, db ) )\\\n",
    "                    .option(\"driver\", \"org.postgresql.Driver\")\\\n",
    "                    .option(\"query\", sql)\\\n",
    "                    .option(\"user\", \"hive\")\\\n",
    "                    .option(\"password\", \"go2team\")\\\n",
    "                    .load()"
   ]
  },
  {
   "cell_type": "code",
   "execution_count": 13,
   "id": "ca90b666",
   "metadata": {},
   "outputs": [
    {
     "name": "stdout",
     "output_type": "stream",
     "text": [
      "+--------------+--------------+--------+-----+--------+------------+-------------+------------+-----------------+--------------+-------+-------+------------------+-------------+-------------------+-------------------+\n",
      "|hl_lock_ext_id|hl_lock_int_id|hl_txnid|hl_db|hl_table|hl_partition|hl_lock_state|hl_lock_type|hl_last_heartbeat|hl_acquired_at|hl_user|hl_host|hl_heartbeat_count|hl_agent_info|hl_blockedby_ext_id|hl_blockedby_int_id|\n",
      "+--------------+--------------+--------+-----+--------+------------+-------------+------------+-----------------+--------------+-------+-------+------------------+-------------+-------------------+-------------------+\n",
      "+--------------+--------------+--------+-----+--------+------------+-------------+------------+-----------------+--------------+-------+-------+------------------+-------------+-------------------+-------------------+\n",
      "\n"
     ]
    }
   ],
   "source": [
    "postgreTable.show()"
   ]
  },
  {
   "cell_type": "code",
   "execution_count": null,
   "id": "68d2aac9",
   "metadata": {},
   "outputs": [],
   "source": []
  }
 ],
 "metadata": {
  "kernelspec": {
   "display_name": "Python 3",
   "language": "python",
   "name": "python3"
  },
  "language_info": {
   "codemirror_mode": {
    "name": "ipython",
    "version": 3
   },
   "file_extension": ".py",
   "mimetype": "text/x-python",
   "name": "python",
   "nbconvert_exporter": "python",
   "pygments_lexer": "ipython3",
   "version": "3.6.9"
  }
 },
 "nbformat": 4,
 "nbformat_minor": 5
}
